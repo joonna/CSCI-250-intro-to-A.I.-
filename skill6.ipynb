import pandas as pd
from matplotlib import pyplot as plt
import math as m
url = "https://raw.githubusercontent.com/datasets/gdp/0be54c18d900edc37123f25b4eff014731c9e459/data/gdp.csv"
data=pd.read_csv(url)
data
us = data[data['Country Name'] == 'United States']
china = data[data['Country Name'] == 'China']
eu = data[data['Country Name'] == 'European Union']
plt.plot(us.Year, us.Value / 10**9, 'b')
plt.plot(eu.Year, eu.Value / 10**9, '-.g')
plt.plot(china.Year, china.Value / 10**9, 'or')
plt.legend(['United States', 'European Union', 'China'])
plt.xlabel('year')
plt.ylabel('GDP')
plt.suptitle("Jonathan Kohler's GDP Plot")
plt.show()
